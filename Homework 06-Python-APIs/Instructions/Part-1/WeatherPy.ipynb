{
 "cells": [
  {
   "cell_type": "markdown",
   "metadata": {},
   "source": [
    "# WeatherPy\n",
    "----\n",
    "\n",
    "#### Note\n",
    "* Instructions have been included for each segment. You do not have to follow them exactly, but they are included to help you think through the steps."
   ]
  },
  {
   "cell_type": "code",
   "execution_count": 8,
   "metadata": {},
   "outputs": [],
   "source": [
    "# Observations\n",
    "# 1\n",
    "# 2\n",
    "# 3"
   ]
  },
  {
   "cell_type": "code",
   "execution_count": 9,
   "metadata": {
    "scrolled": true
   },
   "outputs": [],
   "source": [
    "# Dependencies and Setup\n",
    "import matplotlib.pyplot as plt\n",
    "import pandas as pd\n",
    "import numpy as np\n",
    "import requests\n",
    "import time\n",
    "\n",
    "# Import API key\n",
    "from api_keys import api_key\n",
    "\n",
    "# Incorporated citipy to determine city based on latitude and longitude\n",
    "from citipy import citipy\n",
    "\n",
    "# Output File (CSV)\n",
    "output_data_file = \"output_data/cities.csv\"\n",
    "\n",
    "# Range of latitudes and longitudes\n",
    "lat_range = (-90, 90)\n",
    "lng_range = (-180, 180)"
   ]
  },
  {
   "cell_type": "markdown",
   "metadata": {},
   "source": [
    "## Generate Cities List"
   ]
  },
  {
   "cell_type": "code",
   "execution_count": 10,
   "metadata": {},
   "outputs": [
    {
     "data": {
      "text/plain": [
       "605"
      ]
     },
     "execution_count": 10,
     "metadata": {},
     "output_type": "execute_result"
    }
   ],
   "source": [
    "# List for holding lat_lngs and cities\n",
    "lat_lngs = []\n",
    "cities = []\n",
    "\n",
    "# Create a set of random lat and lng combinations\n",
    "lats = np.random.uniform(low=-90.000, high=90.000, size=1500)\n",
    "lngs = np.random.uniform(low=-180.000, high=180.000, size=1500)\n",
    "lat_lngs = zip(lats, lngs)\n",
    "\n",
    "# Identify nearest city for each lat, lng combination\n",
    "for lat_lng in lat_lngs:\n",
    "    city = citipy.nearest_city(lat_lng[0], lat_lng[1]).city_name\n",
    "    \n",
    "    # If the city is unique, then add it to a our cities list\n",
    "    if city not in cities:\n",
    "        cities.append(city)\n",
    "\n",
    "# Print the city count to confirm sufficient count\n",
    "len(cities)"
   ]
  },
  {
   "cell_type": "markdown",
   "metadata": {},
   "source": [
    "### Perform API Calls\n",
    "* Perform a weather check on each city using a series of successive API calls.\n",
    "* Include a print log of each city as it'sbeing processed (with the city number and city name).\n"
   ]
  },
  {
   "cell_type": "code",
   "execution_count": 11,
   "metadata": {},
   "outputs": [],
   "source": [
    "# Start query url from openweather api weather info\n",
    "url = \"http://api.openweathermap.org/data/2.5/weather?\"\n",
    "units = \"imperial\"\n",
    "\n",
    "# Build partial query URL\n",
    "query_url = f\"{url}appid={api_key}&units={units}&q=\""
   ]
  },
  {
   "cell_type": "code",
   "execution_count": null,
   "metadata": {},
   "outputs": [
    {
     "name": "stdout",
     "output_type": "stream",
     "text": [
      "Retrieving Results for Index 0: ushuaia.\n",
      "Retrieving Results for Index 1: kloulklubed.\n",
      "Retrieving Results for Index 2: bubaque.\n",
      "Retrieving Results for Index 3: soe.\n",
      "Retrieving Results for Index 4: cape town.\n",
      "Retrieving Results for Index 5: nabire.\n",
      "Retrieving Results for Index 6: san cristobal.\n",
      "Retrieving Results for Index 7: mataura.\n",
      "Retrieving Results for Index 8: samarai.\n",
      "Retrieving Results for Index 9: ambovombe.\n",
      "Retrieving Results for Index 10: bredasdorp.\n",
      "Retrieving Results for Index 11: port elizabeth.\n",
      "Retrieving Results for Index 12: bima.\n",
      "Retrieving Results for Index 13: port alfred.\n",
      "Retrieving Results for Index 14: fort-shevchenko.\n",
      "Retrieving Results for Index 15: kazalinsk.\n",
      "     Missing field/result for kazalinsk. Skipping.\n",
      "Retrieving Results for Index 16: ribeira grande.\n",
      "Retrieving Results for Index 17: zhigansk.\n",
      "Retrieving Results for Index 18: ilulissat.\n",
      "Retrieving Results for Index 19: kapaa.\n",
      "Retrieving Results for Index 20: camacha.\n",
      "Retrieving Results for Index 21: cabo san lucas.\n",
      "Retrieving Results for Index 22: atuona.\n",
      "Retrieving Results for Index 23: qaanaaq.\n",
      "Retrieving Results for Index 24: barentsburg.\n",
      "     Missing field/result for barentsburg. Skipping.\n",
      "Retrieving Results for Index 25: atar.\n",
      "Retrieving Results for Index 26: umm durman.\n",
      "     Missing field/result for umm durman. Skipping.\n",
      "Retrieving Results for Index 27: georgetown.\n",
      "Retrieving Results for Index 28: lahij.\n",
      "Retrieving Results for Index 29: chulman.\n",
      "Retrieving Results for Index 30: santa fe do sul.\n",
      "Retrieving Results for Index 31: mar del plata.\n",
      "Retrieving Results for Index 32: new norfolk.\n",
      "Retrieving Results for Index 33: westport.\n",
      "Retrieving Results for Index 34: ancud.\n",
      "Retrieving Results for Index 35: fortuna.\n",
      "Retrieving Results for Index 36: cidreira.\n",
      "Retrieving Results for Index 37: beloslav.\n",
      "Retrieving Results for Index 38: dikson.\n",
      "Retrieving Results for Index 39: ibra.\n",
      "Retrieving Results for Index 40: rikitea.\n",
      "Retrieving Results for Index 41: amderma.\n",
      "     Missing field/result for amderma. Skipping.\n",
      "Retrieving Results for Index 42: attawapiskat.\n",
      "     Missing field/result for attawapiskat. Skipping.\n",
      "Retrieving Results for Index 43: vanavara.\n",
      "Retrieving Results for Index 44: severo-yeniseyskiy.\n",
      "Retrieving Results for Index 45: tuktoyaktuk.\n",
      "Retrieving Results for Index 46: hattiesburg.\n",
      "Retrieving Results for Index 47: albany.\n",
      "Retrieving Results for Index 48: geraldton.\n",
      "Retrieving Results for Index 49: punta arenas.\n",
      "Retrieving Results for Index 50: hobart.\n",
      "Retrieving Results for Index 51: teguise.\n",
      "Retrieving Results for Index 52: flin flon.\n",
      "Retrieving Results for Index 53: qaqortoq.\n",
      "Retrieving Results for Index 54: saint george.\n",
      "Retrieving Results for Index 55: saskylakh.\n",
      "Retrieving Results for Index 56: thompson.\n",
      "Retrieving Results for Index 57: arraial do cabo.\n",
      "Retrieving Results for Index 58: louisbourg.\n",
      "     Missing field/result for louisbourg. Skipping.\n",
      "Retrieving Results for Index 59: egvekinot.\n",
      "Retrieving Results for Index 60: okhotsk.\n",
      "Retrieving Results for Index 61: nizhneyansk.\n",
      "     Missing field/result for nizhneyansk. Skipping.\n",
      "Retrieving Results for Index 62: barrow.\n",
      "Retrieving Results for Index 63: bambous virieux.\n",
      "Retrieving Results for Index 64: flinders.\n",
      "Retrieving Results for Index 65: usinsk.\n",
      "Retrieving Results for Index 66: puerto ayora.\n",
      "Retrieving Results for Index 67: salalah.\n",
      "Retrieving Results for Index 68: severo-kurilsk.\n",
      "Retrieving Results for Index 69: vaini.\n",
      "Retrieving Results for Index 70: henties bay.\n",
      "Retrieving Results for Index 71: lebu.\n",
      "Retrieving Results for Index 72: puerto narino.\n",
      "Retrieving Results for Index 73: moose factory.\n",
      "Retrieving Results for Index 74: bethel.\n",
      "Retrieving Results for Index 75: vila velha.\n",
      "Retrieving Results for Index 76: butaritari.\n",
      "Retrieving Results for Index 77: nata.\n",
      "Retrieving Results for Index 78: lafiagi.\n",
      "Retrieving Results for Index 79: san andres.\n",
      "Retrieving Results for Index 80: graaff-reinet.\n",
      "Retrieving Results for Index 81: sungaipenuh.\n",
      "Retrieving Results for Index 82: ponta do sol.\n",
      "Retrieving Results for Index 83: nyurba.\n",
      "Retrieving Results for Index 84: chernyshevskiy.\n",
      "Retrieving Results for Index 85: aklavik.\n",
      "Retrieving Results for Index 86: tasiilaq.\n",
      "Retrieving Results for Index 87: bocaranga.\n",
      "     Missing field/result for bocaranga. Skipping.\n",
      "Retrieving Results for Index 88: nishihara.\n",
      "Retrieving Results for Index 89: nuuk.\n",
      "Retrieving Results for Index 90: iqaluit.\n",
      "Retrieving Results for Index 91: dudinka.\n",
      "Retrieving Results for Index 92: manado.\n",
      "Retrieving Results for Index 93: puerto ayacucho.\n",
      "Retrieving Results for Index 94: srednekolymsk.\n",
      "Retrieving Results for Index 95: asau.\n",
      "     Missing field/result for asau. Skipping.\n",
      "Retrieving Results for Index 96: pringsewu.\n",
      "Retrieving Results for Index 97: illoqqortoormiut.\n",
      "     Missing field/result for illoqqortoormiut. Skipping.\n",
      "Retrieving Results for Index 98: shubarshi.\n",
      "Retrieving Results for Index 99: umzimvubu.\n",
      "     Missing field/result for umzimvubu. Skipping.\n",
      "Retrieving Results for Index 100: bluff.\n",
      "Retrieving Results for Index 101: tiksi.\n",
      "Retrieving Results for Index 102: taoudenni.\n",
      "Retrieving Results for Index 103: taolanaro.\n",
      "     Missing field/result for taolanaro. Skipping.\n",
      "Retrieving Results for Index 104: anadyr.\n",
      "Retrieving Results for Index 105: yanan.\n",
      "     Missing field/result for yanan. Skipping.\n",
      "Retrieving Results for Index 106: bay city.\n",
      "Retrieving Results for Index 107: marathon.\n",
      "Retrieving Results for Index 108: norman wells.\n",
      "Retrieving Results for Index 109: cherskiy.\n",
      "Retrieving Results for Index 110: hilo.\n",
      "Retrieving Results for Index 111: avarua.\n",
      "Retrieving Results for Index 112: eureka.\n",
      "Retrieving Results for Index 113: jamestown.\n",
      "Retrieving Results for Index 114: kapra.\n",
      "Retrieving Results for Index 115: barra do garcas.\n",
      "Retrieving Results for Index 116: ilinsko-podomskoye.\n",
      "     Missing field/result for ilinsko-podomskoye. Skipping.\n"
     ]
    }
   ],
   "source": [
    "# create lists to store the data for the dataframe\n",
    "City = []\n",
    "Country = []\n",
    "Lat = []\n",
    "Lng = []\n",
    "Date = []\n",
    "Humidity = []\n",
    "Cloudiness = []\n",
    "Max_Temp = []\n",
    "Windspeed = []\n",
    "\n",
    "index = 0\n",
    "\n",
    "# Loop through the cities list using the api and append the selected info to the lists\n",
    "for city in cities:\n",
    "    print(f\"Retrieving Results for Index {index}: {city}.\")\n",
    "    try:\n",
    "        response = requests.get(query_url + city).json()\n",
    "        \n",
    "        # get info for each list created above and append to the list\n",
    "        City.append(city)\n",
    "        Country.append(response['sys']['country'])\n",
    "        Lat.append(response['coord']['lat'])\n",
    "        Lng.append(response['coord']['lon'])\n",
    "        Date.append(response['dt'])\n",
    "        Humidity.append(response[\"main\"]['humidity'])\n",
    "        Cloudiness.append(response['clouds']['all'])\n",
    "        Max_Temp.append(response['main']['temp_max'])\n",
    "        Windspeed.append(response['wind']['speed'])\n",
    "        \n",
    "    except:\n",
    "        print(f\"     Missing field/result for {city}. Skipping.\")\n",
    "    \n",
    "    index=index+1 \n",
    "    time.sleep(7.8)"
   ]
  },
  {
   "cell_type": "code",
   "execution_count": null,
   "metadata": {},
   "outputs": [],
   "source": []
  },
  {
   "cell_type": "code",
   "execution_count": null,
   "metadata": {},
   "outputs": [],
   "source": []
  },
  {
   "cell_type": "markdown",
   "metadata": {},
   "source": [
    "### Convert Raw Data to DataFrame\n",
    "* Export the city data into a .csv.\n",
    "* Display the DataFrame"
   ]
  },
  {
   "cell_type": "code",
   "execution_count": null,
   "metadata": {},
   "outputs": [],
   "source": []
  },
  {
   "cell_type": "code",
   "execution_count": null,
   "metadata": {},
   "outputs": [],
   "source": []
  },
  {
   "cell_type": "markdown",
   "metadata": {},
   "source": [
    "### Plotting the Data\n",
    "* Use proper labeling of the plots using plot titles (including date of analysis) and axes labels.\n",
    "* Save the plotted figures as .pngs."
   ]
  },
  {
   "cell_type": "markdown",
   "metadata": {},
   "source": [
    "#### Latitude vs. Temperature Plot"
   ]
  },
  {
   "cell_type": "code",
   "execution_count": null,
   "metadata": {},
   "outputs": [],
   "source": []
  },
  {
   "cell_type": "markdown",
   "metadata": {},
   "source": [
    "#### Latitude vs. Humidity Plot"
   ]
  },
  {
   "cell_type": "code",
   "execution_count": null,
   "metadata": {},
   "outputs": [],
   "source": []
  },
  {
   "cell_type": "markdown",
   "metadata": {},
   "source": [
    "#### Latitude vs. Cloudiness Plot"
   ]
  },
  {
   "cell_type": "code",
   "execution_count": null,
   "metadata": {},
   "outputs": [],
   "source": []
  },
  {
   "cell_type": "markdown",
   "metadata": {},
   "source": [
    "#### Latitude vs. Wind Speed Plot"
   ]
  },
  {
   "cell_type": "code",
   "execution_count": null,
   "metadata": {},
   "outputs": [],
   "source": []
  },
  {
   "cell_type": "code",
   "execution_count": null,
   "metadata": {},
   "outputs": [],
   "source": []
  }
 ],
 "metadata": {
  "anaconda-cloud": {},
  "kernel_info": {
   "name": "python3"
  },
  "kernelspec": {
   "display_name": "Python 3",
   "language": "python",
   "name": "python3"
  },
  "language_info": {
   "codemirror_mode": {
    "name": "ipython",
    "version": 3
   },
   "file_extension": ".py",
   "mimetype": "text/x-python",
   "name": "python",
   "nbconvert_exporter": "python",
   "pygments_lexer": "ipython3",
   "version": "3.7.3"
  },
  "nteract": {
   "version": "0.12.3"
  }
 },
 "nbformat": 4,
 "nbformat_minor": 2
}
