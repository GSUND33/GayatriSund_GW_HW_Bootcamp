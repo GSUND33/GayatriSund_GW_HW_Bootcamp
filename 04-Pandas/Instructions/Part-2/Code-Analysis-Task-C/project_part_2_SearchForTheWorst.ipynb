{
 "cells": [
  {
   "cell_type": "markdown",
   "metadata": {},
   "source": [
    "# Search For The Worst\n",
    "\n",
    "#### The objective of this assignment is for you to explain what is happening in each cell in clear, understandable language. \n",
    "\n",
    "#### _There is no need to code._ The code is there for you, and it already runs. Your task is only to explain what each line in each cell does.\n",
    "\n",
    "#### The placeholder cells should describe what happens in the cell below it."
   ]
  },
  {
   "cell_type": "markdown",
   "metadata": {},
   "source": [
    "**Example**: The cell below imports `pandas` as a dependency because `pandas` functions will be used throughout the program, such as the Pandas `DataFrame` as well as the `read_csv` function."
   ]
  },
  {
   "cell_type": "code",
   "execution_count": null,
   "metadata": {},
   "outputs": [],
   "source": [
    "import pandas as pd\n",
    "import numpy as np"
   ]
  },
  {
   "cell_type": "markdown",
   "metadata": {},
   "source": [
    "**Example**: The cell below creates a reference to teh csv file and stores it in a variable called `csv_path`. It then creates a DataFrame using the `pd.read_csv` function. The output of the `read_csv` function is a DataFrame."
   ]
  },
  {
   "cell_type": "code",
   "execution_count": null,
   "metadata": {},
   "outputs": [],
   "source": [
    "# Create reference to CSV file\n",
    "csv_path = \"Resources/Soccer2018Data.csv\"\n",
    "\n",
    "# Import the CSV into a pandas DataFrame\n",
    "soccer_2018_df = pd.read_csv(csv_path, low_memory=False)\n",
    "soccer_2018_df"
   ]
  },
  {
   "cell_type": "markdown",
   "metadata": {},
   "source": [
    "The data frame from the file soccer_2018 is looking through the column \"Preferred Position\" and all the unique positions to Preferred Position. This means if there is a position for forward, goalkeeper than it will pick up only the positions that are found uniquely once.  "
   ]
  },
  {
   "cell_type": "code",
   "execution_count": null,
   "metadata": {},
   "outputs": [],
   "source": [
    "# list unique values of column \"Preferred Position\"\n",
    "\n",
    "soccer_2018_df[\"Preferred Position\"].unique()"
   ]
  },
  {
   "cell_type": "markdown",
   "metadata": {},
   "source": [
    "The below function identifies the location of column Preferred Position and that position of \"ST.\" The function then isolates that column separately and only pulls out thee list that has \"ST\" associated under it. The strikers_2018_df.head() pulls up on the first 5 rows of the list."
   ]
  },
  {
   "cell_type": "code",
   "execution_count": null,
   "metadata": {},
   "outputs": [],
   "source": [
    "# slice the data frame to isloate all tose limited to 'ST' preferred position\n",
    "strikers_2018_df = soccer_2018_df.loc[soccer_2018_df[\"Preferred Position\"] == \"ST\", :]\n",
    "strikers_2018_df.head()"
   ]
  },
  {
   "cell_type": "markdown",
   "metadata": {},
   "source": [
    "The below function sorts out the list by sort_values(\"ST\") from the worst strikers to the best strikers. The df.sort_values (\"ST\") sorts out the values of the strikers that have done well.\n",
    "\n",
    "The next function resets the columns based on the sorting locations. The reset_index(drop=True). The rest function drops the index if it is True. \n",
    "\n",
    "The reindexing is needed so that index can also reflect the order of after the sort. \n",
    "\n",
    "We are on line 8 generating the first 5 rows of the Data Frame."
   ]
  },
  {
   "cell_type": "code",
   "execution_count": null,
   "metadata": {},
   "outputs": [],
   "source": [
    "# Sort the DataFrame by the values in the \"ST\" column to find the worst\n",
    "# This is needed so that we can have the values in an order \n",
    "strikers_2018_df = strikers_2018_df.sort_values(\"ST\")\n",
    "\n",
    "# Reset the index so that the index is now based on the sorting locations\n",
    "strikers_2018_df = strikers_2018_df.reset_index(drop=True)\n",
    "# reindexing is needed so that the index number can also refelct  the order after the sort\n",
    "strikers_2018_df.head()"
   ]
  },
  {
   "cell_type": "markdown",
   "metadata": {},
   "source": [
    "The logic in this cell works as that from index row 0 and all the columns represented by [0, :]. This means we are sorting out all the columns found on the Data Frame labeled worst_striker from index 0 from thr worst striker. \n",
    "\n",
    "Line 4 generates the dataframe entirely. All the rows and the columns sorted out from the worst player to the best player.\n",
    "\n",
    "\n",
    "Replace this with your clear explanation of what happens in the cell below. This saves all of the information collected on the worst striker. Explain how does the logic in this cell work. Also, be sure to explain what the `:` represents.]_"
   ]
  },
  {
   "cell_type": "code",
   "execution_count": null,
   "metadata": {
    "scrolled": false
   },
   "outputs": [],
   "source": [
    "# determine the worest striker as the frist value as the data was sordted ascending the first row will represent the worest sticker as daat\n",
    "#was sorted ascending \n",
    "worst_striker = strikers_2018_df.loc[0, :]\n",
    "worst_striker"
   ]
  }
 ],
 "metadata": {
  "kernelspec": {
   "display_name": "Python 3",
   "language": "python",
   "name": "python3"
  },
  "language_info": {
   "codemirror_mode": {
    "name": "ipython",
    "version": 3
   },
   "file_extension": ".py",
   "mimetype": "text/x-python",
   "name": "python",
   "nbconvert_exporter": "python",
   "pygments_lexer": "ipython3",
   "version": "3.7.3"
  }
 },
 "nbformat": 4,
 "nbformat_minor": 2
}
