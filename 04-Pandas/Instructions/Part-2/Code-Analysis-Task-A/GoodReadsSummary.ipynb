{
 "cells": [
  {
   "cell_type": "markdown",
   "metadata": {},
   "source": [
    "# Good Reads Summary\n",
    "\n",
    "#### The objective of this assignment is for you to explain what is happening in each cell in clear, understandable language. \n",
    "\n",
    "#### _There is no need to code._ The code is there for you, and it already runs. Your task is only to explain what each line in each cell does.\n",
    "\n",
    "#### The placeholder cells should describe what happens in the cell below it."
   ]
  },
  {
   "cell_type": "markdown",
   "metadata": {},
   "source": [
    "**Example**: The cell below imports `pandas` as a dependency because `pandas` functions will be used throughout the program, such as the Pandas `DataFrame` as well as the `read_csv` function."
   ]
  },
  {
   "cell_type": "code",
   "execution_count": null,
   "metadata": {},
   "outputs": [],
   "source": [
    "import pandas as pd"
   ]
  },
  {
   "cell_type": "markdown",
   "metadata": {},
   "source": [
    "The cell below gives a location of where to pick up the csv document on the computer. Simulateneoudly, a name is given to the file. \n",
    "\n",
    "On line 3 a name is given to the Data Frame and and a command is given to ask pandas (pd) to read the csv file. \n",
    "\n",
    "On line 4 a command is given to execute the Data Frame and show us the first 5 lines of the Data Frame. This is done with the command head()"
   ]
  },
  {
   "cell_type": "code",
   "execution_count": null,
   "metadata": {},
   "outputs": [],
   "source": [
    "goodreads_path = \"Resources/books_clean.csv\"\n",
    "\n",
    "goodreads_df = pd.read_csv(goodreads_path, encoding=\"utf-8\")\n",
    "goodreads_df.head()\n",
    "\n"
   ]
  },
  {
   "cell_type": "markdown",
   "metadata": {},
   "source": [
    "On line 1 an expression is written to state the number of authors names that are uniquely found on the entire csv. This means if an authors name is repeated several times in the csv then it will not be included in the \"len\"function. The len function is short for length. The goodreads_df is the DataFrame this search is being conducted and it is specifically looking for it under the list that states Authors.\n",
    "\n",
    "On line 3 a command is directed to searching in the goodreads_df DataFrame under the list stating Publication Year the lowest value given. In this case, this is the earliest year. This is also indicated on the name of the expression.\n",
    "\n",
    "On line 4 a command is given to search under the goodreads_df DataFrame a list stating Publiction the highest value. In this case, this is the latest year found under the list. This is also indicated on the name of the expression.\n",
    "\n",
    "On line 6 a command is written out to extract parts of the Data Frame goodreads_df. The parts that are being extracted are all the rows and on the 4th column. Here the the sum of the values will start from axis=1 which is the second row on the tabble.\n",
    "\n",
    "On line 7 the command is written to sum all of the values found under the list name \"Total Reviews.'"
   ]
  },
  {
   "cell_type": "code",
   "execution_count": null,
   "metadata": {},
   "outputs": [],
   "source": [
    "author_count = len(goodreads_df[\"Authors\"].unique())\n",
    "\n",
    "earliest_year = goodreads_df[\"Publication Year\"].min()\n",
    "latest_year = goodreads_df[\"Publication Year\"].max()\n",
    "\n",
    "goodreads_df['Total Reviews'] = goodreads_df.iloc[:, 4:].sum(axis=1)\n",
    "total_reviews = sum(goodreads_df['Total Reviews'])"
   ]
  },
  {
   "cell_type": "markdown",
   "metadata": {},
   "source": [
    "summary_table is a list of dictionaries. Enclosed is a list of dictionaries that reflect a key and a value. A list of keys and values are written.\n",
    "\n",
    "Author_count is put in square brackets because it is a list found under the DataFrame. A list is being pulled into the dictionary value called [author_count] and the key that it is supporting is \"Total Unique Authors.\""
   ]
  },
  {
   "cell_type": "code",
   "execution_count": null,
   "metadata": {},
   "outputs": [],
   "source": [
    "summary_table = pd.DataFrame({\"Total Unique Authors\": [author_count],\n",
    "                              \"Earliest Year\": earliest_year,\n",
    "                              \"Latest Year\": latest_year,\n",
    "                              \"Total Reviews\": total_reviews})\n",
    "summary_table"
   ]
  }
 ],
 "metadata": {
  "kernelspec": {
   "display_name": "Python 3",
   "language": "python",
   "name": "python3"
  },
  "language_info": {
   "codemirror_mode": {
    "name": "ipython",
    "version": 3
   },
   "file_extension": ".py",
   "mimetype": "text/x-python",
   "name": "python",
   "nbconvert_exporter": "python",
   "pygments_lexer": "ipython3",
   "version": "3.7.3"
  }
 },
 "nbformat": 4,
 "nbformat_minor": 2
}
